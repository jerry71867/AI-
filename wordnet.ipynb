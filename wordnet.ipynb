{
  "nbformat": 4,
  "nbformat_minor": 0,
  "metadata": {
    "colab": {
      "provenance": [],
      "authorship_tag": "ABX9TyPoQ8lsQPdg49nWDKAVlSgt",
      "include_colab_link": true
    },
    "kernelspec": {
      "name": "python3",
      "display_name": "Python 3"
    },
    "language_info": {
      "name": "python"
    }
  },
  "cells": [
    {
      "cell_type": "markdown",
      "metadata": {
        "id": "view-in-github",
        "colab_type": "text"
      },
      "source": [
        "<a href=\"https://colab.research.google.com/github/jerry71867/AI-/blob/main/wordnet.ipynb\" target=\"_parent\"><img src=\"https://colab.research.google.com/assets/colab-badge.svg\" alt=\"Open In Colab\"/></a>"
      ]
    },
    {
      "cell_type": "code",
      "execution_count": 1,
      "metadata": {
        "colab": {
          "base_uri": "https://localhost:8080/"
        },
        "id": "zlE2NDZV-nsR",
        "outputId": "31d5be79-95e4-48a5-cdad-09b54e324a59"
      },
      "outputs": [
        {
          "output_type": "stream",
          "name": "stdout",
          "text": [
            "Collecting CwnGraph\n",
            "  Downloading CwnGraph-0.4.0-py3-none-any.whl (32 kB)\n",
            "Requirement already satisfied: gdown>=4.4.0 in /usr/local/lib/python3.10/dist-packages (from CwnGraph) (5.1.0)\n",
            "Requirement already satisfied: requests in /usr/local/lib/python3.10/dist-packages (from CwnGraph) (2.31.0)\n",
            "Requirement already satisfied: nltk in /usr/local/lib/python3.10/dist-packages (from CwnGraph) (3.8.1)\n",
            "Requirement already satisfied: beautifulsoup4 in /usr/local/lib/python3.10/dist-packages (from gdown>=4.4.0->CwnGraph) (4.12.3)\n",
            "Requirement already satisfied: filelock in /usr/local/lib/python3.10/dist-packages (from gdown>=4.4.0->CwnGraph) (3.14.0)\n",
            "Requirement already satisfied: tqdm in /usr/local/lib/python3.10/dist-packages (from gdown>=4.4.0->CwnGraph) (4.66.4)\n",
            "Requirement already satisfied: click in /usr/local/lib/python3.10/dist-packages (from nltk->CwnGraph) (8.1.7)\n",
            "Requirement already satisfied: joblib in /usr/local/lib/python3.10/dist-packages (from nltk->CwnGraph) (1.4.2)\n",
            "Requirement already satisfied: regex>=2021.8.3 in /usr/local/lib/python3.10/dist-packages (from nltk->CwnGraph) (2023.12.25)\n",
            "Requirement already satisfied: charset-normalizer<4,>=2 in /usr/local/lib/python3.10/dist-packages (from requests->CwnGraph) (3.3.2)\n",
            "Requirement already satisfied: idna<4,>=2.5 in /usr/local/lib/python3.10/dist-packages (from requests->CwnGraph) (3.7)\n",
            "Requirement already satisfied: urllib3<3,>=1.21.1 in /usr/local/lib/python3.10/dist-packages (from requests->CwnGraph) (2.0.7)\n",
            "Requirement already satisfied: certifi>=2017.4.17 in /usr/local/lib/python3.10/dist-packages (from requests->CwnGraph) (2024.2.2)\n",
            "Requirement already satisfied: soupsieve>1.2 in /usr/local/lib/python3.10/dist-packages (from beautifulsoup4->gdown>=4.4.0->CwnGraph) (2.5)\n",
            "Requirement already satisfied: PySocks!=1.5.7,>=1.5.6 in /usr/local/lib/python3.10/dist-packages (from requests->CwnGraph) (1.7.1)\n",
            "Installing collected packages: CwnGraph\n",
            "Successfully installed CwnGraph-0.4.0\n"
          ]
        }
      ],
      "source": [
        "!pip install CwnGraph\n",
        "#下載 CwnGraph 套件及其所有依賴項，並將它們安裝到 Python 環境中。"
      ]
    },
    {
      "cell_type": "code",
      "source": [
        "from CwnGraph import CwnImage\n",
        "#從CwnGraph模組中匯入CwnImage類別。\n",
        "cwn = CwnImage.latest()\n",
        "#建立一個CwnImage類別的實例，並將其賦值給變數cwn。\n",
        "lemmas = cwn.find_lemma(\"腳\")\n",
        "#使用cwn實例的find_lemma方法來查找詞彙\"腳\"的所有詞條\n",
        "lemmas\n",
        "#顯示lemmas變數的值"
      ],
      "metadata": {
        "colab": {
          "base_uri": "https://localhost:8080/"
        },
        "id": "2NMBiKeq-p4e",
        "outputId": "4335a9b0-59ac-47f8-8a2a-1cc3314c37c4"
      },
      "execution_count": 2,
      "outputs": [
        {
          "output_type": "stream",
          "name": "stdout",
          "text": [
            "updating manifest...\n",
            "manifest version:  v2022.08\n",
            "downloading image: 1znQexFItQsALVz6hZmBfR5uvcNdhclOZ...\n"
          ]
        },
        {
          "output_type": "stream",
          "name": "stderr",
          "text": [
            "Downloading...\n",
            "From: https://drive.google.com/uc?id=1znQexFItQsALVz6hZmBfR5uvcNdhclOZ\n",
            "To: /content/cwn-graph-v.2022.08.01.pyobj\n",
            "100%|██████████| 31.6M/31.6M [00:00<00:00, 221MB/s]\n"
          ]
        },
        {
          "output_type": "stream",
          "name": "stdout",
          "text": [
            "image has downloaded:  cwn-graph-v.2022.08.01.pyobj\n"
          ]
        },
        {
          "output_type": "execute_result",
          "data": {
            "text/plain": [
              "[<CwnLemma: 腳_1>,\n",
              " <CwnLemma: 腳_2>,\n",
              " <CwnLemma: 腳氣病_1>,\n",
              " <CwnLemma: 豬腳_1>,\n",
              " <CwnLemma: 獸腳_1>,\n",
              " <CwnLemma: 腳尖_1>,\n",
              " <CwnLemma: 腳趾_1>,\n",
              " <CwnLemma: 腳跟_1>,\n",
              " <CwnLemma: 腳指甲_1>,\n",
              " <CwnLemma: 腳印_1>,\n",
              " <CwnLemma: 註腳_1>,\n",
              " <CwnLemma: 獨腳戲_1>,\n",
              " <CwnLemma: 腳步聲_1>,\n",
              " <CwnLemma: 立腳點_1>,\n",
              " <CwnLemma: 踏腳石_1>,\n",
              " <CwnLemma: 腳夫_1>,\n",
              " <CwnLemma: 頭重腳輕_1>,\n",
              " <CwnLemma: 腳踏車輪_1>,\n",
              " <CwnLemma: 三腳架_1>,\n",
              " <CwnLemma: 腳後跟_1>,\n",
              " <CwnLemma: 兩腳規_1>,\n",
              " <CwnLemma: 腳鍊_1>,\n",
              " <CwnLemma: 放腳臺_1>,\n",
              " <CwnLemma: 腳鐐_1>,\n",
              " <CwnLemma: 腳踏車_1>,\n",
              " <CwnLemma: 腳步_1>,\n",
              " <CwnLemma: 礙手礙腳_1>,\n",
              " <CwnLemma: 赤腳_1>,\n",
              " <CwnLemma: 腳力_1>,\n",
              " <CwnLemma: 躡手躡腳_1>,\n",
              " <CwnLemma: 笨手笨腳_1>,\n",
              " <CwnLemma: 腳本_1>,\n",
              " <CwnLemma: 蹩腳_None>]"
            ]
          },
          "metadata": {},
          "execution_count": 2
        }
      ]
    },
    {
      "cell_type": "code",
      "source": [
        "import nltk\n",
        "#匯入nltk模組，用於自然語言處理的Python工具包。\n",
        "nltk.download('wordnet')\n",
        "#下載大型的英文詞彙資料庫WordNet。\n",
        "from nltk.corpus import wordnet as wn\n",
        "#從nltk.corpus模組中匯入wordnet，用於查詢詞彙語義。\n",
        "wn.synsets('dog')\n",
        "#使用wn尋找詞彙\"dog\"的所有同義詞集（synsets）。"
      ],
      "metadata": {
        "colab": {
          "base_uri": "https://localhost:8080/"
        },
        "id": "wHrnvgkt-s7u",
        "outputId": "e77723bf-082d-4e18-e792-f51d5700ba80"
      },
      "execution_count": 3,
      "outputs": [
        {
          "output_type": "stream",
          "name": "stderr",
          "text": [
            "[nltk_data] Downloading package wordnet to /root/nltk_data...\n"
          ]
        },
        {
          "output_type": "execute_result",
          "data": {
            "text/plain": [
              "[Synset('dog.n.01'),\n",
              " Synset('frump.n.01'),\n",
              " Synset('dog.n.03'),\n",
              " Synset('cad.n.01'),\n",
              " Synset('frank.n.02'),\n",
              " Synset('pawl.n.01'),\n",
              " Synset('andiron.n.01'),\n",
              " Synset('chase.v.01')]"
            ]
          },
          "metadata": {},
          "execution_count": 3
        }
      ]
    }
  ]
}